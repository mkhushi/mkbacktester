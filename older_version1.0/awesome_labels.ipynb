{
 "cells": [
  {
   "cell_type": "markdown",
   "metadata": {},
   "source": [
    "## Rule Based Labelling - Awesome Oscillator"
   ]
  },
  {
   "cell_type": "code",
   "execution_count": 154,
   "metadata": {},
   "outputs": [
    {
     "data": {
      "text/plain": [
       "'\\nfor interactive plots (first - pip3 install ipywidgets)\\n1. pip3 install ipywidgets\\nfor jupyter lab\\n2. jupyter labextension install @jupyter-widgets/jupyterlab-manager\\nor for jupyter notebook\\n2. !jupyter nbextension enable --py widgetsnbextension\\n'"
      ]
     },
     "execution_count": 154,
     "metadata": {},
     "output_type": "execute_result"
    }
   ],
   "source": [
    "import numpy as np\n",
    "import pandas as pd\n",
    "import ipywidgets as widgets\n",
    "from ipywidgets import interact, interact_manual\n",
    "from pylab import plt\n",
    "import mplfinance as mpf\n",
    "#from talib.Momentum import AwesomeOscillatorIndicator\n",
    "import talib\n",
    "from ta.momentum import AwesomeOscillatorIndicator\n",
    "from zigzag import peak_valley_pivots\n",
    "\"\"\"\n",
    "for interactive plots (first - pip3 install ipywidgets)\n",
    "1. pip3 install ipywidgets\n",
    "for jupyter lab\n",
    "2. jupyter labextension install @jupyter-widgets/jupyterlab-manager\n",
    "or for jupyter notebook\n",
    "2. !jupyter nbextension enable --py widgetsnbextension\n",
    "\"\"\""
   ]
  },
  {
   "cell_type": "code",
   "execution_count": 155,
   "metadata": {},
   "outputs": [],
   "source": [
    "df_EURUSDM30 = pd.read_csv('EURUSD_M30.csv')\n",
    "with pd.option_context('display.precision', 20):  \n",
    "    #dataM1 = pd.DataFrame(df_M1)\n",
    "\n",
    "    dataM30=pd.DataFrame(df_EURUSDM30)\n",
    "    # show all the columns\n",
    "    pd.set_option('display.max_columns', None)\n",
    "    # show all the rows\n",
    "    pd.set_option('display.max_rows', None)\n",
    "dataM30['Time'] = pd.to_datetime(dataM30['Time'])"
   ]
  },
  {
   "cell_type": "code",
   "execution_count": 156,
   "metadata": {},
   "outputs": [
    {
     "name": "stdout",
     "output_type": "stream",
     "text": [
      "(169288, 6)\n"
     ]
    },
    {
     "data": {
      "text/html": [
       "<div>\n",
       "<style scoped>\n",
       "    .dataframe tbody tr th:only-of-type {\n",
       "        vertical-align: middle;\n",
       "    }\n",
       "\n",
       "    .dataframe tbody tr th {\n",
       "        vertical-align: top;\n",
       "    }\n",
       "\n",
       "    .dataframe thead th {\n",
       "        text-align: right;\n",
       "    }\n",
       "</style>\n",
       "<table border=\"1\" class=\"dataframe\">\n",
       "  <thead>\n",
       "    <tr style=\"text-align: right;\">\n",
       "      <th></th>\n",
       "      <th>Time</th>\n",
       "      <th>Open</th>\n",
       "      <th>High</th>\n",
       "      <th>Low</th>\n",
       "      <th>Close</th>\n",
       "      <th>Volume</th>\n",
       "    </tr>\n",
       "  </thead>\n",
       "  <tbody>\n",
       "    <tr>\n",
       "      <th>169283</th>\n",
       "      <td>2020-07-22 21:30:00</td>\n",
       "      <td>1.15686</td>\n",
       "      <td>1.15755</td>\n",
       "      <td>1.15673</td>\n",
       "      <td>1.15709</td>\n",
       "      <td>887</td>\n",
       "    </tr>\n",
       "    <tr>\n",
       "      <th>169284</th>\n",
       "      <td>2020-07-22 22:00:00</td>\n",
       "      <td>1.15726</td>\n",
       "      <td>1.15758</td>\n",
       "      <td>1.15714</td>\n",
       "      <td>1.15737</td>\n",
       "      <td>1338</td>\n",
       "    </tr>\n",
       "    <tr>\n",
       "      <th>169285</th>\n",
       "      <td>2020-07-22 22:30:00</td>\n",
       "      <td>1.15738</td>\n",
       "      <td>1.15749</td>\n",
       "      <td>1.15693</td>\n",
       "      <td>1.15697</td>\n",
       "      <td>1071</td>\n",
       "    </tr>\n",
       "    <tr>\n",
       "      <th>169286</th>\n",
       "      <td>2020-07-22 23:00:00</td>\n",
       "      <td>1.15697</td>\n",
       "      <td>1.15723</td>\n",
       "      <td>1.15676</td>\n",
       "      <td>1.15684</td>\n",
       "      <td>2008</td>\n",
       "    </tr>\n",
       "    <tr>\n",
       "      <th>169287</th>\n",
       "      <td>2020-07-22 23:30:00</td>\n",
       "      <td>1.15686</td>\n",
       "      <td>1.15698</td>\n",
       "      <td>1.15642</td>\n",
       "      <td>1.15646</td>\n",
       "      <td>1984</td>\n",
       "    </tr>\n",
       "  </tbody>\n",
       "</table>\n",
       "</div>"
      ],
      "text/plain": [
       "                      Time     Open     High      Low    Close  Volume\n",
       "169283 2020-07-22 21:30:00  1.15686  1.15755  1.15673  1.15709     887\n",
       "169284 2020-07-22 22:00:00  1.15726  1.15758  1.15714  1.15737    1338\n",
       "169285 2020-07-22 22:30:00  1.15738  1.15749  1.15693  1.15697    1071\n",
       "169286 2020-07-22 23:00:00  1.15697  1.15723  1.15676  1.15684    2008\n",
       "169287 2020-07-22 23:30:00  1.15686  1.15698  1.15642  1.15646    1984"
      ]
     },
     "execution_count": 156,
     "metadata": {},
     "output_type": "execute_result"
    }
   ],
   "source": [
    "print(dataM30.shape)\n",
    "dataM30.tail()"
   ]
  },
  {
   "cell_type": "markdown",
   "metadata": {},
   "source": [
    "### Test Market\n",
    "  Look at TAlib Awesome Oscillator and Zigzag indicator\n",
    "  \n",
    "  <ins>Zigzag indicator</ins> set to (depth 12, deviation 5, backstep 5)."
   ]
  },
  {
   "cell_type": "code",
   "execution_count": 157,
   "metadata": {},
   "outputs": [],
   "source": [
    "#AO calculates the difference of a 34 Period and 5 Period Simple Moving Averages.\n",
    "awesome_indicator = AwesomeOscillatorIndicator(dataM30['High'], dataM30['Low'], 5, 34)\n",
    "AO = awesome_indicator.ao()"
   ]
  },
  {
   "cell_type": "code",
   "execution_count": 158,
   "metadata": {},
   "outputs": [],
   "source": [
    "mid = ((dataM30['High']+dataM30['Low'])/2).to_numpy()\n",
    "#0.03 and -0.03 are the minimum threshold required to define a peak\n",
    "#20 pips\n",
    "thresh = 20*0.0001\n",
    "pivots_ = peak_valley_pivots(mid, thresh, -thresh)"
   ]
  },
  {
   "cell_type": "code",
   "execution_count": 159,
   "metadata": {},
   "outputs": [
    {
     "data": {
      "application/vnd.jupyter.widget-view+json": {
       "model_id": "9d4905eb2612402ca971503a5ea9ad04",
       "version_major": 2,
       "version_minor": 0
      },
      "text/plain": [
       "interactive(children=(IntSlider(value=100000, description='past_n', max=300000, min=-100000), IntSlider(value=…"
      ]
     },
     "metadata": {},
     "output_type": "display_data"
    }
   ],
   "source": [
    "@interact\n",
    "def plot_pivots(past_n=100000, datapoints=1000):\n",
    "    past_n_n = past_n-datapoints\n",
    "    X = mid[-past_n:-past_n_n]\n",
    "    pivots = pivots_[-past_n:-past_n_n]\n",
    "    plt.xlim(0, len(X))\n",
    "    plt.ylim(X.min()*0.99, X.max()*1.01)\n",
    "    plt.plot(np.arange(len(X)), X, 'k:', alpha=0.5)\n",
    "    \n",
    "    plt.plot(np.arange(len(X))[pivots != 0], X[pivots != 0], 'k-')\n",
    "    print(X[pivots != 0])\n",
    "    print(len(X[pivots != 0]))\n",
    "    plt.scatter(np.arange(len(X))[pivots == 1], X[pivots == 1], color='g')\n",
    "    plt.scatter(np.arange(len(X))[pivots == -1], X[pivots == -1], color='r')"
   ]
  },
  {
   "cell_type": "code",
   "execution_count": 160,
   "metadata": {},
   "outputs": [
    {
     "data": {
      "application/vnd.jupyter.widget-view+json": {
       "model_id": "47f8b2bb82c54c5d9d2dad4bfe3925f7",
       "version_major": 2,
       "version_minor": 0
      },
      "text/plain": [
       "interactive(children=(Text(value='Close', description='column'), IntSlider(value=100000, description='past_n',…"
      ]
     },
     "metadata": {},
     "output_type": "display_data"
    }
   ],
   "source": [
    "@interact\n",
    "def interactive_plot(column='Close', past_n=100000, datapoints=1000):\n",
    "    #1 day == 48 intervals\n",
    "    past_n_n = past_n-datapoints\n",
    "    AO[-past_n:-past_n_n].plot(figsize=(10, 6));\n",
    "    #return dataM30[column][-past_n:-past_n_n]"
   ]
  },
  {
   "cell_type": "markdown",
   "metadata": {},
   "source": [
    "### Labelling Based on rules\n",
    "  Triggered only when the <ins>Awesome Oscillator</ins> arrives at a zero-crossing point. <ins>Zigzag indicator</ins> set to (depth 12, deviation 5, backstep 5).\n",
    "  \n",
    "  Buy = (current_bar > previous_zizag_pivot_point) and (will_increase_by_15_pips)\n",
    "  \n",
    "  Sell = (current_bar < previous_zizag_pivot_point) and (will_decrease_by_15_pips)\n",
    "  \n",
    "  ---"
   ]
  },
  {
   "cell_type": "code",
   "execution_count": 161,
   "metadata": {},
   "outputs": [
    {
     "name": "stderr",
     "output_type": "stream",
     "text": [
      "/usr/local/lib/python3.7/site-packages/ipykernel_launcher.py:56: SettingWithCopyWarning: \n",
      "A value is trying to be set on a copy of a slice from a DataFrame\n",
      "\n",
      "See the caveats in the documentation: http://pandas.pydata.org/pandas-docs/stable/user_guide/indexing.html#returning-a-view-versus-a-copy\n",
      "/usr/local/lib/python3.7/site-packages/ipykernel_launcher.py:52: SettingWithCopyWarning: \n",
      "A value is trying to be set on a copy of a slice from a DataFrame\n",
      "\n",
      "See the caveats in the documentation: http://pandas.pydata.org/pandas-docs/stable/user_guide/indexing.html#returning-a-view-versus-a-copy\n",
      "/usr/local/lib/python3.7/site-packages/ipykernel_launcher.py:48: SettingWithCopyWarning: \n",
      "A value is trying to be set on a copy of a slice from a DataFrame\n",
      "\n",
      "See the caveats in the documentation: http://pandas.pydata.org/pandas-docs/stable/user_guide/indexing.html#returning-a-view-versus-a-copy\n"
     ]
    },
    {
     "name": "stdout",
     "output_type": "stream",
     "text": [
      "10000 / 169288\n",
      "20000 / 169288\n",
      "30000 / 169288\n",
      "40000 / 169288\n",
      "50000 / 169288\n",
      "60000 / 169288\n",
      "70000 / 169288\n",
      "80000 / 169288\n",
      "90000 / 169288\n",
      "100000 / 169288\n",
      "110000 / 169288\n",
      "120000 / 169288\n",
      "130000 / 169288\n",
      "140000 / 169288\n",
      "150000 / 169288\n",
      "160000 / 169288\n"
     ]
    }
   ],
   "source": [
    "dataM30['c_label'] = ''\n",
    "#if the previous values is Buy, Sell, Stationary (1, 2, 0)\n",
    "labels = np.zeros([dataM30.shape[0], 3])\n",
    "past_n = 15\n",
    "future_n = 15\n",
    "recent_n = 3\n",
    "pip = 0.0001*15\n",
    "\n",
    "\n",
    "for i in range(past_n, dataM30.shape[0]-future_n):\n",
    "    Buy_p =  False\n",
    "    Sell_p = False\n",
    "    Buy =  False\n",
    "    Sell = False\n",
    "    \n",
    "    #calculate current_std and last_3_bars\n",
    "    #current_std = dataM30['Close'][i-past_n:i-recent_n].std()\n",
    "    #last_3_bars = dataM30['Close'][i-recent_n:i].std()\n",
    "    #last_15_close = dataM30['Close'][i-past_n:i].mean()\n",
    "    \n",
    "    #if zero crossing\n",
    "    if (AO[i-1]*AO[i] < 0):\n",
    "        #get last pivot point\n",
    "        for j in range(i, 0, -1):\n",
    "            if (pivots_[j] == -1):\n",
    "                Buy_p = True\n",
    "                break\n",
    "            elif (pivots_[j] == 1):\n",
    "                Sell_p = True\n",
    "                break\n",
    "            \n",
    "        #get price delta over the next 15 bars\n",
    "        for j in range(i, i+future_n):\n",
    "            std_delta = dataM30['Close'][j] - dataM30['Close'][i]\n",
    "            #price_delta = last_15_close - dataM30['Close'][i]\n",
    "            #BUY - if up 15 bars\n",
    "            if (std_delta >= pip):\n",
    "            #if (std_delta >= pip and price_delta > 0):\n",
    "                Buy = True\n",
    "                break\n",
    "            #SELL - if down 15 bars\n",
    "            elif (std_delta <= -pip):\n",
    "            #elif (std_delta <= -pip and price_delta > 0):\n",
    "                Sell = True\n",
    "                \n",
    "    #BUY\n",
    "    if (Buy and Buy_p):\n",
    "        dataM30['c_label'][i] = 1\n",
    "        labels[i][0] = 1\n",
    "    #SELL\n",
    "    elif (Sell and Sell_p):\n",
    "        dataM30['c_label'][i] = 2\n",
    "        labels[i][1] = 1\n",
    "    #non-volatiles\n",
    "    else:\n",
    "        dataM30['c_label'][i] = 0 \n",
    "        labels[i][2] = 1\n",
    "\n",
    "    if i % 10000 == 0:\n",
    "        print(i, \"/\", dataM30.shape[0])"
   ]
  },
  {
   "cell_type": "code",
   "execution_count": 162,
   "metadata": {},
   "outputs": [
    {
     "name": "stdout",
     "output_type": "stream",
     "text": [
      "Buy signal: 2470 / 169288\n",
      "Sell signal: 2212/169288\n",
      "No signal: 164576/169288\n"
     ]
    }
   ],
   "source": [
    "print(\"Buy signal: %d / %d\" % (np.sum((dataM30['c_label'] == 1)), dataM30.shape[0]))\n",
    "print(\"Sell signal: %d/%d\" % (np.sum((dataM30['c_label'] == 2)), dataM30.shape[0]))\n",
    "print(\"No signal: %d/%d\" % (np.sum(dataM30['c_label'] == 0), dataM30.shape[0]))"
   ]
  },
  {
   "cell_type": "code",
   "execution_count": 35,
   "metadata": {},
   "outputs": [
    {
     "name": "stdout",
     "output_type": "stream",
     "text": [
      "Buy signal: 6604 / 169288\n",
      "Sell signal: 6847/169288\n",
      "No signal: 155807/169288\n"
     ]
    }
   ],
   "source": []
  },
  {
   "cell_type": "code",
   "execution_count": 32,
   "metadata": {},
   "outputs": [
    {
     "name": "stdout",
     "output_type": "stream",
     "text": [
      "Buy signal: 3365 / 169288\n",
      "Sell signal: 3402/169288\n",
      "No signal: 162491/169288\n"
     ]
    }
   ],
   "source": [
    "#number of signals when we add an extra rule"
   ]
  },
  {
   "cell_type": "code",
   "execution_count": 163,
   "metadata": {},
   "outputs": [],
   "source": [
    "outputpath=\"./AO_EURUSD_M30.csv\"\n",
    "dataM30.to_csv(outputpath,sep=',',index=False,header=True)"
   ]
  },
  {
   "cell_type": "markdown",
   "metadata": {},
   "source": [
    "### Buy Sell  Visualisation"
   ]
  },
  {
   "cell_type": "code",
   "execution_count": 164,
   "metadata": {},
   "outputs": [],
   "source": [
    "#load csv\n",
    "df_EURUSDM30 = pd.read_csv('AO_EURUSD_M30.csv')\n",
    "with pd.option_context('display.precision', 20):  \n",
    "    #dataM1 = pd.DataFrame(df_M1)\n",
    "\n",
    "    dataM30=pd.DataFrame(df_EURUSDM30)\n",
    "    # show all the columns\n",
    "    pd.set_option('display.max_columns', None)\n",
    "    # show all the rows\n",
    "    pd.set_option('display.max_rows', None)"
   ]
  },
  {
   "cell_type": "code",
   "execution_count": 165,
   "metadata": {},
   "outputs": [
    {
     "name": "stdout",
     "output_type": "stream",
     "text": [
      "['Time', 'Open', 'High', 'Low', 'Close', 'Volume', 'c_label']\n",
      "                  Time     Open     High      Low    Close  Volume  c_label\n",
      "0  2007-01-01 00:00:00  1.31908  1.31964  1.31896  1.31913   24827      NaN\n",
      "1  2007-01-01 00:30:00  1.31920  1.31943  1.31894  1.31915   22240      NaN\n",
      "2  2007-01-01 01:00:00  1.31925  1.31934  1.31882  1.31900   24568      NaN\n",
      "3  2007-01-01 01:30:00  1.31910  1.31916  1.31872  1.31894   24496      NaN\n",
      "4  2007-01-01 02:00:00  1.31892  1.31973  1.31874  1.31948   25233      NaN\n"
     ]
    }
   ],
   "source": [
    "data = dataM30\n",
    "print(list(data))\n",
    "print(data.head())"
   ]
  },
  {
   "cell_type": "code",
   "execution_count": 166,
   "metadata": {},
   "outputs": [
    {
     "name": "stdout",
     "output_type": "stream",
     "text": [
      "                        Open     High      Low    Close  Volume  c_label\n",
      "Date_Time                                                               \n",
      "2007-01-01 00:00:00  1.31908  1.31964  1.31896  1.31913   24827      NaN\n",
      "2007-01-01 00:30:00  1.31920  1.31943  1.31894  1.31915   22240      NaN\n",
      "2007-01-01 01:00:00  1.31925  1.31934  1.31882  1.31900   24568      NaN\n",
      "2007-01-01 01:30:00  1.31910  1.31916  1.31872  1.31894   24496      NaN\n",
      "2007-01-01 02:00:00  1.31892  1.31973  1.31874  1.31948   25233      NaN\n"
     ]
    }
   ],
   "source": [
    "data.index = pd.DatetimeIndex(dataM30.Time)\n",
    "data.index.name = 'Date_Time'\n",
    "data = data.drop(columns=['Time'])\n",
    "#data = data.dropna()\n",
    "print(data.head())"
   ]
  },
  {
   "cell_type": "code",
   "execution_count": 167,
   "metadata": {},
   "outputs": [],
   "source": [
    "def buy_sell(data, close_data):\n",
    "    i = 0\n",
    "    buy, sell, hold = [], [], []\n",
    "    buy_signal, sell_signal = [], []\n",
    "    for date, value in data.iteritems():\n",
    "        if (value == 1):\n",
    "            #buy.append((date, (close_data[date]-1)))\n",
    "            buy_signal.append((close_data[date]*0.999))\n",
    "            sell_signal.append(np.nan)\n",
    "        elif (value == 2):\n",
    "            #sell.append((date, (close_data[date]+1)))\n",
    "            sell_signal.append(close_data[date]*1.001)\n",
    "            buy_signal.append(np.nan)\n",
    "        else:\n",
    "            buy_signal.append(np.nan)\n",
    "            sell_signal.append(np.nan)\n",
    "    return buy_signal, sell_signal\n",
    "b, s = buy_sell(data['c_label'][-200:], data['Close'][-200:])"
   ]
  },
  {
   "cell_type": "code",
   "execution_count": 168,
   "metadata": {},
   "outputs": [],
   "source": [
    "mm = mid[-len(data):]\n",
    "pp = pivots_[-len(data):]\n",
    "AA, AA1, AA2 = np.empty(len(data)), np.empty(len(data)), np.empty(len(data))\n",
    "AA[:], AA1[:], AA2[:] = np.NaN, np.NaN, np.NaN\n",
    "idx = np.where(pp != 0)[0]\n",
    "idx1 = np.where(pp == 1)[0]\n",
    "idx2 = np.where(pp == -1)[0]\n",
    "\n",
    "\n",
    "AA[idx] = mm[idx]\n",
    "AA1[idx1] = mm[idx1]\n",
    "AA2[idx2] = mm[idx2]\n",
    "zero = np.zeros_like(AA2)"
   ]
  },
  {
   "cell_type": "code",
   "execution_count": 171,
   "metadata": {},
   "outputs": [],
   "source": [
    "#interpolate zigzag pivot points to create a line\n",
    "zigzag = pd.DataFrame(AA).interpolate(method ='linear', limit_direction ='forward').interpolate(method ='linear', limit_direction ='backward')"
   ]
  },
  {
   "cell_type": "code",
   "execution_count": 172,
   "metadata": {},
   "outputs": [
    {
     "data": {
      "application/vnd.jupyter.widget-view+json": {
       "model_id": "05b8ff2f76dd4d32addb74d8d3f4c7a9",
       "version_major": 2,
       "version_minor": 0
      },
      "text/plain": [
       "interactive(children=(Text(value='Close', description='column'), IntSlider(value=100000, description='past_n',…"
      ]
     },
     "metadata": {},
     "output_type": "display_data"
    }
   ],
   "source": [
    "@interact\n",
    "def interactive_plot(column='Close', past_n=100000, datapoints=1000):\n",
    "    #1 day == 48 intervals\n",
    "    #past_n_n = past_n-(days*48)\n",
    "    past_n_n = past_n-datapoints\n",
    "    \n",
    "    b, s = buy_sell(data['c_label'][-past_n:-past_n_n], data['Close'][-past_n:-past_n_n])\n",
    "    \n",
    "    buy = mpf.make_addplot(b, type='scatter', marker='^', markersize=100, color='blue')\n",
    "    sell = mpf.make_addplot(s, type='scatter', marker='v', markersize=100, color='orange')\n",
    "    \n",
    "    zigzag_p = mpf.make_addplot(zigzag[-past_n:-past_n_n], type='line', color='black')\n",
    "    aaa1, aaa2 = [], []\n",
    "    aaa1 = mpf.make_addplot(AA1[-past_n:-past_n_n], type='scatter', marker='o', markersize=50, color='green')\n",
    "    aaa2 = mpf.make_addplot(AA2[-past_n:-past_n_n], type='scatter', marker='o', markersize=50, color='red')\n",
    "    oscillator = mpf.make_addplot((AO[-past_n:-past_n_n]),panel=1,color='blue')\n",
    "    zero_line =  mpf.make_addplot((zero[-past_n:-past_n_n]),panel=1,color='black')\n",
    "\n",
    "    apds = []\n",
    "    if (pd.notna(b).any() and pd.notna(s).any()):\n",
    "        apds = [buy, sell, zigzag_p, aaa1, aaa2, oscillator, zero_line]\n",
    "    elif(pd.notna(b).any()):\n",
    "        apds = [buy, zigzag_p, aaa1, aaa2, oscillator, zero_line]\n",
    "    elif(pd.notna(s).any()):\n",
    "        apds = [sell, zigzag_p, aaa1, aaa2, oscillator, zero_line]\n",
    "    \n",
    "    \n",
    "    mpf.plot(data[-past_n:-past_n_n], figsize=(20,10), type='candle', style='charles', title='', ylabel='', ylabel_lower='', addplot=apds)"
   ]
  },
  {
   "cell_type": "code",
   "execution_count": null,
   "metadata": {},
   "outputs": [],
   "source": []
  }
 ],
 "metadata": {
  "kernelspec": {
   "display_name": "Python 3",
   "language": "python",
   "name": "python3"
  },
  "language_info": {
   "codemirror_mode": {
    "name": "ipython",
    "version": 3
   },
   "file_extension": ".py",
   "mimetype": "text/x-python",
   "name": "python",
   "nbconvert_exporter": "python",
   "pygments_lexer": "ipython3",
   "version": "3.7.5"
  }
 },
 "nbformat": 4,
 "nbformat_minor": 4
}
