{
 "cells": [
  {
   "cell_type": "markdown",
   "metadata": {},
   "source": [
    "## Visualisation of backtesting"
   ]
  },
  {
   "cell_type": "code",
   "execution_count": 1,
   "metadata": {},
   "outputs": [
    {
     "output_type": "execute_result",
     "data": {
      "text/plain": "'\\nfor interactive plots (first - pip3 install ipywidgets)\\n1. pip3 install ipywidgets\\nfor jupyter lab\\n2. jupyter labextension install @jupyter-widgets/jupyterlab-manager\\nor for jupyter notebook\\n2. !jupyter nbextension enable --py widgetsnbextension\\n'"
     },
     "metadata": {},
     "execution_count": 1
    }
   ],
   "source": [
    "import numpy as np\n",
    "import pandas as pd\n",
    "import ipywidgets as widgets\n",
    "from ipywidgets import interact, interact_manual\n",
    "from pylab import plt\n",
    "import mplfinance as mpf\n",
    "#from talib.Momentum import AwesomeOscillatorIndicator\n",
    "import talib as ta\n",
    "# from ta.momentum import AwesomeOscillatorIndicator\n",
    "# from zigzag import peak_valley_pivots\n",
    "\"\"\"\n",
    "for interactive plots (first - pip3 install ipywidgets)\n",
    "1. pip3 install ipywidgets\n",
    "for jupyter lab\n",
    "2. jupyter labextension install @jupyter-widgets/jupyterlab-manager\n",
    "or for jupyter notebook\n",
    "2. !jupyter nbextension enable --py widgetsnbextension\n",
    "\"\"\""
   ]
  },
  {
   "cell_type": "code",
   "execution_count": 2,
   "metadata": {},
   "outputs": [],
   "source": [
    "data = pd.read_csv('backtesting.csv')"
   ]
  },
  {
   "cell_type": "code",
   "execution_count": 3,
   "metadata": {
    "tags": []
   },
   "outputs": [],
   "source": [
    "data = data.rename(columns={'open': 'Open', 'high': 'High', 'low':'Low', 'close':'Close'})\n",
    "data['d_t'] = data['date'] + ' ' + data['time']\n",
    "data.index = pd.DatetimeIndex(data.d_t)\n",
    "data.index.name = 'Date_Time'\n",
    "data = data.drop(columns=['time', 'Unnamed: 0', 'date', 'd_t'])\n",
    "data = data.dropna()"
   ]
  },
  {
   "cell_type": "code",
   "execution_count": 4,
   "metadata": {
    "tags": []
   },
   "outputs": [
    {
     "output_type": "stream",
     "name": "stdout",
     "text": "(2531, 7)\n"
    },
    {
     "output_type": "execute_result",
     "data": {
      "text/plain": "                        Open     High      Low    Close action  P/L  \\\nDate_Time                                                             \n2020-01-03 11:00:00  1.30976  1.31007  1.30662  1.30676   hold  0.0   \n2020-01-03 12:00:00  1.30676  1.30878  1.30676  1.30778   hold  0.0   \n2020-01-03 13:00:00  1.30778  1.30784  1.30532  1.30581   hold  0.0   \n2020-01-03 14:00:00  1.30581  1.30821  1.30537  1.30798   hold  0.0   \n2020-01-03 15:00:00  1.30798  1.31096  1.30718  1.30723   hold  0.0   \n\n                     Total profit  \nDate_Time                          \n2020-01-03 11:00:00           0.0  \n2020-01-03 12:00:00           0.0  \n2020-01-03 13:00:00           0.0  \n2020-01-03 14:00:00           0.0  \n2020-01-03 15:00:00           0.0  ",
      "text/html": "<div>\n<style scoped>\n    .dataframe tbody tr th:only-of-type {\n        vertical-align: middle;\n    }\n\n    .dataframe tbody tr th {\n        vertical-align: top;\n    }\n\n    .dataframe thead th {\n        text-align: right;\n    }\n</style>\n<table border=\"1\" class=\"dataframe\">\n  <thead>\n    <tr style=\"text-align: right;\">\n      <th></th>\n      <th>Open</th>\n      <th>High</th>\n      <th>Low</th>\n      <th>Close</th>\n      <th>action</th>\n      <th>P/L</th>\n      <th>Total profit</th>\n    </tr>\n    <tr>\n      <th>Date_Time</th>\n      <th></th>\n      <th></th>\n      <th></th>\n      <th></th>\n      <th></th>\n      <th></th>\n      <th></th>\n    </tr>\n  </thead>\n  <tbody>\n    <tr>\n      <th>2020-01-03 11:00:00</th>\n      <td>1.30976</td>\n      <td>1.31007</td>\n      <td>1.30662</td>\n      <td>1.30676</td>\n      <td>hold</td>\n      <td>0.0</td>\n      <td>0.0</td>\n    </tr>\n    <tr>\n      <th>2020-01-03 12:00:00</th>\n      <td>1.30676</td>\n      <td>1.30878</td>\n      <td>1.30676</td>\n      <td>1.30778</td>\n      <td>hold</td>\n      <td>0.0</td>\n      <td>0.0</td>\n    </tr>\n    <tr>\n      <th>2020-01-03 13:00:00</th>\n      <td>1.30778</td>\n      <td>1.30784</td>\n      <td>1.30532</td>\n      <td>1.30581</td>\n      <td>hold</td>\n      <td>0.0</td>\n      <td>0.0</td>\n    </tr>\n    <tr>\n      <th>2020-01-03 14:00:00</th>\n      <td>1.30581</td>\n      <td>1.30821</td>\n      <td>1.30537</td>\n      <td>1.30798</td>\n      <td>hold</td>\n      <td>0.0</td>\n      <td>0.0</td>\n    </tr>\n    <tr>\n      <th>2020-01-03 15:00:00</th>\n      <td>1.30798</td>\n      <td>1.31096</td>\n      <td>1.30718</td>\n      <td>1.30723</td>\n      <td>hold</td>\n      <td>0.0</td>\n      <td>0.0</td>\n    </tr>\n  </tbody>\n</table>\n</div>"
     },
     "metadata": {},
     "execution_count": 4
    }
   ],
   "source": [
    "#data[50:55]\n",
    "print(data.shape)\n",
    "data.head()"
   ]
  },
  {
   "cell_type": "code",
   "execution_count": 16,
   "metadata": {},
   "outputs": [],
   "source": [
    "def buy_sell(data, close_data):\n",
    "\n",
    "    buy_signal, sell_signal = [], []\n",
    "    for date, value in data.iteritems():\n",
    "        #print(value)\n",
    "        if (value == 'buy'):        #value == '1'\n",
    "            buy_signal.append((close_data[date]*0.999))\n",
    "            sell_signal.append(np.nan)\n",
    "        elif (value == 'sell'):     #value == '2'\n",
    "            #sell.append((date, (close_data[date]+1)))\n",
    "            sell_signal.append(close_data[date]*1.001)\n",
    "            buy_signal.append(np.nan)\n",
    "        else:\n",
    "            buy_signal.append(np.nan)\n",
    "            sell_signal.append(np.nan)\n",
    " \n",
    "    return buy_signal, sell_signal\n",
    "#b, s = buy_sell(data['action'][-200:], data['Close'][-200:])"
   ]
  },
  {
   "cell_type": "code",
   "execution_count": 13,
   "metadata": {},
   "outputs": [
    {
     "output_type": "execute_result",
     "data": {
      "text/plain": "True"
     },
     "metadata": {},
     "execution_count": 13
    }
   ],
   "source": [
    "# pd.notna(b).any()"
   ]
  },
  {
   "cell_type": "code",
   "execution_count": 19,
   "metadata": {},
   "outputs": [
    {
     "output_type": "display_data",
     "data": {
      "text/plain": "interactive(children=(Text(value='close', description='column'), IntSlider(value=1000, description='past_n', m…",
      "application/vnd.jupyter.widget-view+json": {
       "version_major": 2,
       "version_minor": 0,
       "model_id": "73dd3a0c11dc4bf1aa2768c59def181e"
      }
     },
     "metadata": {}
    }
   ],
   "source": [
    "\n",
    "@interact\n",
    "def interactive_plot(column='close', past_n=1000, datapoints=500):\n",
    "\n",
    "    past_n_n = past_n-datapoints\n",
    "    \n",
    "    b, s = buy_sell(data['action'][-past_n:-past_n_n], data['Close'][-past_n:-past_n_n])\n",
    "    \n",
    "    buy = mpf.make_addplot(b, type='scatter', marker='^', markersize=100, color='blue')\n",
    "    sell = mpf.make_addplot(s, type='scatter', marker='v', markersize=100, color='orange')\n",
    "    \n",
    "    apds = []\n",
    "    if (pd.notna(b).any() and pd.notna(s).any()):\n",
    "        apds = [buy, sell]\n",
    "    elif(pd.notna(b).any()):\n",
    "        apds = [buy]\n",
    "    elif(pd.notna(s).any()):\n",
    "        apds = [sell]\n",
    "\n",
    "    mpf.plot(data[-past_n:-past_n_n], figsize=(20,10), type='candle', style='charles', title='', ylabel='', ylabel_lower='', addplot=apds) "
   ]
  },
  {
   "cell_type": "code",
   "execution_count": null,
   "metadata": {},
   "outputs": [],
   "source": []
  }
 ],
 "metadata": {
  "kernelspec": {
   "display_name": "Python 3",
   "language": "python",
   "name": "python3"
  },
  "language_info": {
   "codemirror_mode": {
    "name": "ipython",
    "version": 3
   },
   "file_extension": ".py",
   "mimetype": "text/x-python",
   "name": "python",
   "nbconvert_exporter": "python",
   "pygments_lexer": "ipython3",
   "version": "3.8.3-final"
  }
 },
 "nbformat": 4,
 "nbformat_minor": 4
}